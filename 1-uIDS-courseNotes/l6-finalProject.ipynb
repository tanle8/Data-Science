{
 "cells": [
  {
   "cell_type": "markdown",
   "metadata": {},
   "source": [
    "# Final Project: Analyzing the NYC Subway Dataset\n",
    "\n",
    "Congratulations! You created a really interesting analysis and visualization of the NYC subway and weather data. Now it is time to reflect upon what you have learned and done so far.\n",
    "\n",
    "We have created two versions of the data set for you to download. See the Materials link to the left side of the video (or download through the following links: [original data set](https://www.dropbox.com/s/blf5osto696bm4h/intro_to_ds_programming_files.zip) and [improved data set](https://www.dropbox.com/s/1lpoeh2w6px4diu/improved-dataset.zip?dl=0)).\n",
    "\n",
    "The first version is the version that you have been working with throughout the class.\n",
    "The second version contains a cleaned-up subset of the original dataset with additional variables that you can use to improve your linear regression model and visualizations. The additional variables can be seen in [this document](https://s3.amazonaws.com/uploads.hipchat.com/23756/665149/05bgLZqSsMycnkg/turnstile-weather-variables.pdf).\n",
    "Answer these [short questions](https://docs.google.com/document/d/16T3kirC0IxvtfxlZb7n5kOz5xFF_JTwrG31J2OZj8KM/pub) about the data set and share your responses in the [discussion forums](http://discussions.udacity.com/c/standalone-courses/intro-to-data-science).\n",
    "\n",
    "- Supporting Materials\n",
    " [TurnstileandWeatherVariables.pdf](https://www.udacity.com/api/nodes/3319138762/supplemental_media/turnstileandweathervariablespdf/download)"
   ]
  }
 ],
 "metadata": {
  "kernelspec": {
   "display_name": "Python 2",
   "language": "python",
   "name": "python2"
  },
  "language_info": {
   "codemirror_mode": {
    "name": "ipython",
    "version": 2
   },
   "file_extension": ".py",
   "mimetype": "text/x-python",
   "name": "python",
   "nbconvert_exporter": "python",
   "pygments_lexer": "ipython2",
   "version": "2.7.12"
  }
 },
 "nbformat": 4,
 "nbformat_minor": 0
}
