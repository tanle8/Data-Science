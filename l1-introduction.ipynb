{
 "cells": [
  {
   "cell_type": "markdown",
   "metadata": {},
   "source": [
    "### Pandas Vectorized Methods\n",
    "As a refresher on lambda, lambda functions are small inline functions that are defined on-the-fly in Python.\n",
    "\n",
    "`lambda x: x >= 1` will take an input `x` and return `x >= 1`, or a boolean that equals `True` or `False`.\n",
    "-In this example, `map()` and `applymap()` create a new **Series** or **DataFrame** by applying the lambda function to each element.\n",
    "-Note that `map()` can only be used on a Series to return a new Series and `applymap()` can only be used on a DataFrame to return a *new* DataFrame."
   ]
  },
  {
   "cell_type": "markdown",
   "metadata": {},
   "source": [
    "```Python\n",
    "import numpy\n",
    "from pandas import DataFrame, Series\n",
    "\n",
    "olympic_medal_counts = {'country_name' : Series(countries),\n",
    "                        'gold' : Series(gold),\n",
    "                        'silver' : Series(silver),\n",
    "                        'bronze' : Series(bronze)\n",
    "                       }\n",
    "olympic_medal_counts_df = DataFrame(olympic_medal_counts)\n",
    "\n",
    "avg_medal_count = olympic_medal_counts_df[['gold', 'silver', 'bronze']].apply(numpy.mean)\n",
    "\n",
    "print(avg_medal_count)\n",
    "```"
   ]
  },
  {
   "cell_type": "markdown",
   "metadata": {},
   "source": [
    "### Multiplying Matrixes using `Numpy.dot(a, b)`"
   ]
  },
  {
   "cell_type": "code",
   "execution_count": null,
   "metadata": {
    "collapsed": true
   },
   "outputs": [],
   "source": [
    "import numpy\n",
    "from pandas import DataFrame, Series\n",
    "\n",
    "\n",
    "def points():\n",
    "    '''\n",
    "    Imagine a point system in which each country is awarded 4 points for each\n",
    "    gold medal,  2 points for each silver medal, and one point for each \n",
    "    bronze medal.  \n",
    "\n",
    "    Using the numpy.dot function, create a new dataframe called \n",
    "    'olympic_points_df' that includes:\n",
    "        a) a column called 'country_name' with the country name\n",
    "        b) a column called 'points' with the total number of points the country\n",
    "           earned at the Sochi olympics.\n",
    "           \n",
    "    You do not need to call the function in your code when running it in the\n",
    "    browser - the grader will do that automatically when you submit or test it.\n",
    "    '''\n",
    "\n",
    "    countries = ['Russian Fed.', 'Norway', 'Canada', 'United States',\n",
    "                 'Netherlands', 'Germany', 'Switzerland', 'Belarus',\n",
    "                 'Austria', 'France', 'Poland', 'China', 'Korea', \n",
    "                 'Sweden', 'Czech Republic', 'Slovenia', 'Japan',\n",
    "                 'Finland', 'Great Britain', 'Ukraine', 'Slovakia',\n",
    "                 'Italy', 'Latvia', 'Australia', 'Croatia', 'Kazakhstan']\n",
    "\n",
    "    gold = [13, 11, 10, 9, 8, 8, 6, 5, 4, 4, 4, 3, 3, 2, 2, 2, 1, 1, 1, 1, 1, 0, 0, 0, 0, 0]\n",
    "    silver = [11, 5, 10, 7, 7, 6, 3, 0, 8, 4, 1, 4, 3, 7, 4, 2, 4, 3, 1, 0, 0, 2, 2, 2, 1, 0]\n",
    "    bronze = [9, 10, 5, 12, 9, 5, 2, 1, 5, 7, 1, 2, 2, 6, 2, 4, 3, 1, 2, 1, 0, 6, 2, 1, 0, 1]\n",
    " \n",
    "    # YOUR CODE HERE\n",
    "    olympic_medal_counts = {'country_name' : Series(countries),\n",
    "                            'gold' : Series(gold),\n",
    "                            'silver' : Series(silver),\n",
    "                            'bronze' : Series(bronze)\n",
    "                            }\n",
    "    olympic_medal_counts_df = DataFrame(olympic_medal_counts)\n",
    "    \n",
    "    # Create a small data frame with only the `gold`, `silver`, `bronze`.\n",
    "    medal_counts = olympic_medal_counts_df[['gold', 'silver', 'bronze']]\n",
    "    \n",
    "    # Create a vector store the score for each type of number.\n",
    "    point_rule = [4, 2, 1]\n",
    "    \n",
    "    # Calculate the point of all the medal from each country by multiplying\n",
    "    # two matrix `medal_counts` and `point_rule` using `numpy.dot` function.\n",
    "    points = numpy.dot(medal_counts, point_rule)\n",
    "    \n",
    "    # Create data\n",
    "    olympic_points = {'country_name' : Series(countries),\n",
    "                      'points' : Series(points)\n",
    "                      }\n",
    "    # Create a small dataframe `olympic_points_df` as the \n",
    "    olympic_points_df = DataFrame(olympic_points)\n",
    "    \n",
    "    return olympic_points_df"
   ]
  },
  {
   "cell_type": "code",
   "execution_count": null,
   "metadata": {
    "collapsed": true
   },
   "outputs": [],
   "source": []
  }
 ],
 "metadata": {
  "kernelspec": {
   "display_name": "Python 2",
   "language": "python",
   "name": "python2"
  },
  "language_info": {
   "codemirror_mode": {
    "name": "ipython",
    "version": 2
   },
   "file_extension": ".py",
   "mimetype": "text/x-python",
   "name": "python",
   "nbconvert_exporter": "python",
   "pygments_lexer": "ipython2",
   "version": "2.7.12"
  }
 },
 "nbformat": 4,
 "nbformat_minor": 0
}
