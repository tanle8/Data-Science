{
 "cells": [
  {
   "cell_type": "markdown",
   "metadata": {
    "deletable": true,
    "editable": true
   },
   "source": [
    "# Lesson 3: Data Analysis\n",
    "\n",
    "## Statistics\n"
   ]
  },
  {
   "cell_type": "markdown",
   "metadata": {
    "deletable": true,
    "editable": true
   },
   "source": [
    "## Terminology\n",
    "- `Significant level`\n",
    "    In statistical hypothesis testing, a result has statistical significance when it is very unlikely to have occurred given the null hypothesis.[3] More precisely, the significance level defined for a study, α, is the probability of the study rejecting the null hypothesis, given that it were true; and the p-value of a result, p, is the probability of obtaining a result at least as extreme, given that the null hypothesis were true. The result is statistically significant, by the standards of the study, when p < α.\n",
    "    [Link to wikipedia article](https://en.wikipedia.org/wiki/Statistical_significance)\n",
    "- `Normal Distribution`\n",
    "\n",
    "- ``"
   ]
  },
  {
   "cell_type": "code",
   "execution_count": 7,
   "metadata": {
    "collapsed": false,
    "deletable": true,
    "editable": true
   },
   "outputs": [
    {
     "data": {
      "text/html": [
       "<iframe width=\"560\" height=\"315\" src=\"https://www.youtube.com/embed/umJQ6gVT8kY\" frameborder=\"0\" allowfullscreen></iframe>"
      ],
      "text/plain": [
       "<IPython.core.display.HTML object>"
      ]
     },
     "execution_count": 7,
     "metadata": {},
     "output_type": "execute_result"
    }
   ],
   "source": [
    "# Kurt's Introduction\n",
    "from IPython.display import HTML\n",
    "HTML('<iframe width=\"560\" height=\"315\" src=\"https://www.youtube.com/embed/umJQ6gVT8kY\" frameborder=\"0\" allowfullscreen></iframe>')"
   ]
  },
  {
   "cell_type": "code",
   "execution_count": 8,
   "metadata": {
    "collapsed": false,
    "deletable": true,
    "editable": true
   },
   "outputs": [
    {
     "data": {
      "text/html": [
       "<iframe width=\"560\" height=\"315\" src=\"https://www.youtube.com/embed/DyeRm96wH5M\" frameborder=\"0\" allowfullscreen></iframe>"
      ],
      "text/plain": [
       "<IPython.core.display.HTML object>"
      ]
     },
     "execution_count": 8,
     "metadata": {},
     "output_type": "execute_result"
    }
   ],
   "source": [
    "# Why is Statistics Useful?\n",
    "from IPython.display import HTML\n",
    "HTML('<iframe width=\"560\" height=\"315\" src=\"https://www.youtube.com/embed/DyeRm96wH5M\" frameborder=\"0\" allowfullscreen></iframe>')"
   ]
  },
  {
   "cell_type": "code",
   "execution_count": 10,
   "metadata": {
    "collapsed": false,
    "deletable": true,
    "editable": true
   },
   "outputs": [
    {
     "data": {
      "text/html": [
       "<iframe width=\"560\" height=\"315\" src=\"https://www.youtube.com/embed/ZfOTcwXAdEw\" frameborder=\"0\" allowfullscreen></iframe>"
      ],
      "text/plain": [
       "<IPython.core.display.HTML object>"
      ]
     },
     "execution_count": 10,
     "metadata": {},
     "output_type": "execute_result"
    }
   ],
   "source": [
    "# Introduction to Normal (Gauss Distribution)\n",
    "from IPython.display import HTML\n",
    "HTML ('<iframe width=\"560\" height=\"315\" src=\"https://www.youtube.com/embed/ZfOTcwXAdEw\" frameborder=\"0\" allowfullscreen></iframe>')"
   ]
  },
  {
   "cell_type": "markdown",
   "metadata": {
    "deletable": true,
    "editable": true
   },
   "source": [
    "The equation for the normal distribution is:\n",
    "\n",
    "$$f(x) = \\frac{1}{\\sqrt{2\\pi\\sigma^2}}.e^{\\frac{-(x - \\mu)^2}{2\\sigma^2}}$$"
   ]
  },
  {
   "cell_type": "markdown",
   "metadata": {
    "deletable": true,
    "editable": true
   },
   "source": [
    "### T-Test\n",
    "To be more explicit:\n",
    "- It is important to note that you cannot \"accept\" a null.\n",
    "- You can just \"retain\" or \"fail to reject\".\n",
    "\n",
    "If you would like to learn more about the t-test, check out [this lesson](https://classroom.udacity.com/courses/ud201/lessons/1333678604/concepts/1470193200923) in Intro to Inferential Statistics.\n",
    "\n",
    "Welch's T-Test In Python\n",
    "You can check out additional information about the scipy implementation of the t-test below:\n",
    "http://docs.scipy.org/doc/scipy/reference/generated/scipy.stats.ttest_ind.html\n"
   ]
  },
  {
   "cell_type": "code",
   "execution_count": 12,
   "metadata": {
    "collapsed": false,
    "deletable": true,
    "editable": true
   },
   "outputs": [
    {
     "data": {
      "text/html": [
       "<iframe width=\"369\" height=\"208\" src=\"https://www.youtube.com/embed/tjSj2OkV51A\" frameborder=\"0\" allowfullscreen></iframe>"
      ],
      "text/plain": [
       "<IPython.core.display.HTML object>"
      ]
     },
     "execution_count": 12,
     "metadata": {},
     "output_type": "execute_result"
    }
   ],
   "source": [
    "# t-Test video\n",
    "from IPython.display import HTML\n",
    "HTML('<iframe width=\"369\" height=\"208\" src=\"https://www.youtube.com/embed/tjSj2OkV51A\" frameborder=\"0\" allowfullscreen></iframe>')"
   ]
  },
  {
   "cell_type": "code",
   "execution_count": 13,
   "metadata": {
    "collapsed": false,
    "deletable": true,
    "editable": true
   },
   "outputs": [
    {
     "data": {
      "text/html": [
       "<iframe width=\"369\" height=\"208\" src=\"https://www.youtube.com/embed/B_1cnwYn7so\" frameborder=\"0\" allowfullscreen></iframe>"
      ],
      "text/plain": [
       "<IPython.core.display.HTML object>"
      ]
     },
     "execution_count": 13,
     "metadata": {},
     "output_type": "execute_result"
    }
   ],
   "source": [
    "# Welch's Two-Sample t-Test\n",
    "from IPython.display import HTML\n",
    "HTML('<iframe width=\"369\" height=\"208\" src=\"https://www.youtube.com/embed/B_1cnwYn7so\" frameborder=\"0\" allowfullscreen></iframe>')"
   ]
  },
  {
   "cell_type": "markdown",
   "metadata": {
    "deletable": true,
    "editable": true
   },
   "source": [
    "### 14. Quiz - Welch's t-Test Exercise\n",
    "\n",
    "Performs a **t-test** on two sets of baseball data (left-handed and right-handed hitters).\n",
    "\n",
    "You will be given a csv file that has *three* columns.\n",
    "A player's `name`, `handedness` (L for lefthanded or R for righthanded) and their\n",
    "`career batting average` (called 'avg').\n",
    "You can look at the csv file by downloading the baseball_stats file from Downloadables below. \n",
    "\n",
    "Write a function that will:\n",
    "- read that the csv file into a pandas data frame,and\n",
    "- Run Welch's t-test on the two cohorts defined by handedness.\n",
    "  - One cohort should be a data frame of right-handed batters. And \n",
    "  - the other cohort should be a data frame of left-handed batters.\n",
    "\n",
    "We have included the `scipy.stats` library to help you write\n",
    "or implement **Welch's t-test**:\n",
    "http://docs.scipy.org/doc/scipy/reference/stats.html\n",
    "\n",
    "With a significance level of 95%, if there is no difference\n",
    "between the two cohorts, return a tuple consisting of\n",
    "True, and then the tuple returned by scipy.stats.ttest.  \n",
    "\n",
    "If there is a difference, return a tuple consisting of\n",
    "False, and then the tuple returned by scipy.stats.ttest.\n",
    "\n",
    "For example, the tuple that you return may look like:\n",
    "(True, (9.93570222, 0.000023))\n",
    "\n",
    "Supporting materials\n",
    "[baseball_stats.csv](https://www.udacity.com/api/nodes/702578673/supplemental_media/baseball-statscsv/download)"
   ]
  },
  {
   "cell_type": "code",
   "execution_count": null,
   "metadata": {
    "collapsed": true,
    "deletable": true,
    "editable": true
   },
   "outputs": [],
   "source": [
    "import numpy\n",
    "import scipy.stats\n",
    "import pandas\n",
    "\n",
    "def compare_averages(filename):\n",
    "    \"\"\"\n",
    "    The description for this quiz is above text.\n",
    "    \"\"\"\n",
    "    baseball_data = pandas.read_csv(filename)\n",
    "    lh_player = baseball_data.loc[baseball_data['handedness'] == 'L', 'avg']\n",
    "    rh_player = baseball_data.loc[baseball_data['handedness'] == 'R', 'avg']\n",
    "    \n",
    "    # Welch's t-test\n",
    "    (t, p) = scipy.stats.ttest_ind(lh_player, rh_player, equal_var=False)\n",
    "    \n",
    "    # Welch's t-test results.\n",
    "    result = (p > 0.05, (t, p))\n",
    "    \n",
    "    return result\n",
    "    "
   ]
  },
  {
   "cell_type": "markdown",
   "metadata": {
    "deletable": true,
    "editable": true
   },
   "source": [
    "Your calculated t-statistic is 9.93570222624\n",
    "The correct t-statistic is +/-9.93570222624"
   ]
  },
  {
   "cell_type": "code",
   "execution_count": 14,
   "metadata": {
    "collapsed": false,
    "deletable": true,
    "editable": true
   },
   "outputs": [
    {
     "data": {
      "text/html": [
       "<iframe width=\"550\" height=\"309\" src=\"https://www.youtube.com/embed/TrSU-GH7TDY\" frameborder=\"0\" allowfullscreen></iframe>"
      ],
      "text/plain": [
       "<IPython.core.display.HTML object>"
      ]
     },
     "execution_count": 14,
     "metadata": {},
     "output_type": "execute_result"
    }
   ],
   "source": [
    "# Exaplaination for Welch's t-Test exercise\n",
    "from IPython.display import HTML\n",
    "HTML('<iframe width=\"550\" height=\"309\" src=\"https://www.youtube.com/embed/TrSU-GH7TDY\" frameborder=\"0\" allowfullscreen></iframe>')"
   ]
  },
  {
   "cell_type": "markdown",
   "metadata": {
    "deletable": true,
    "editable": true
   },
   "source": [
    "### Non-normal Data\n",
    "\n",
    "When performing the t-Test, we assume that our data is normal.\n",
    "In the wild, you'll often encounter probability distributions.\n",
    "They're distinctly not normal. They might look like two diagrams below or even completely different.\n",
    "\n",
    "![non-normal data example](image/l3-1-1.png)\n",
    "\n",
    "As you imagine, there are still statistical tests that we can utilize when our data is not normal.\n",
    "\n",
    "First of, we should have some machinery in place for determining whether or not our data is **Gaussian** in the first place. A crude, inaccurate way of determining whether or not our data is normal is simply to plot a histogram of our data ans ask, does this look like a bell curve? In both of the cases above, the answer would definitely be no. But, we can do  little bit better than that. There are some statistical tests that we can use to measure the likelihood that a sample is drawn from a normally distributed population. One such test is the **Shapiro-Wilk** test. The theory of this test is out of this course's scope. But you can implement this test easyly like this:\n",
    "\n",
    "```Python\n",
    "(W, p) = scipy.stats.shapiro(data)\n",
    "```\n",
    "- with `W` is the Shapiro-Wilk test statistic, \n",
    "- `p` value, which should be interpreted the same way as we would interpret the p-value for our t-test.\n",
    "\n",
    "That is, given null hypothesis that this data is drawn from a normal distribution, what is the likelihood that we would observe a value of W that was at least as extreme as the one that we see?\n",
    "\n",
    "\n",
    "### Non-Parametric Test\n",
    "\n",
    "A statistical test that does not assume our data is drawn from any particular underlying probability distribution.\n",
    "\n",
    "Mann-Whitney U test is a test that tests null hypothesis that two populations are the same:\n",
    "\n",
    "```Python\n",
    "(U, P) = scipy.stats.mannwhitneyu(x, y)\n",
    "```\n",
    "- x and y are two samples.\n",
    "\n",
    "### Note\n",
    "These have just been some of the methods that we can use when performing statistical tests on data. As you can imagine, there are a number of additional ways to handle data from different probability distributions or data that looks like it came from no probability distribution whatsoever.\n",
    "\n",
    "Data scientist can perform many statistical procedures. But it's vital to understand the underlying structure of the data set and consequently, which statistical tests are appropriate given the data that we have.   \n",
    "\n",
    "There are many different types of statistical tests and even many different schools of thought within statistics regarding the correct way to analyze data. This has really just been an opportunity to get your feet wet with statistical analysis. *It's just the tip of the iceberg*.\n"
   ]
  },
  {
   "cell_type": "markdown",
   "metadata": {
    "deletable": true,
    "editable": true
   },
   "source": [
    "## 2. What is Machine Learning?\n",
    "In addition to statistics, many data scientists are well versed in machine learning.\n",
    "Machine Learning is a branch of artificial intelligence that's focused on constructing systems that learn from large amounts of data to make predictions.\n",
    "\n",
    "Machine Learning can also be useful to predict which movies you might like on Netflix or how many home runs a batter may hit over the course of his career.\n",
    "\n",
    "These are all the potential applications of machine learning.  "
   ]
  },
  {
   "cell_type": "code",
   "execution_count": 16,
   "metadata": {
    "collapsed": false,
    "deletable": true,
    "editable": true
   },
   "outputs": [
    {
     "data": {
      "text/html": [
       "<iframe width=\"846\" height=\"476\" src=\"https://www.youtube.com/embed/uKEm9_HvkKQ\" frameborder=\"0\" allowfullscreen></iframe>"
      ],
      "text/plain": [
       "<IPython.core.display.HTML object>"
      ]
     },
     "execution_count": 16,
     "metadata": {},
     "output_type": "execute_result"
    }
   ],
   "source": [
    "# Why is Machine Learning Useful?\n",
    "\n",
    "from IPython.display import HTML\n",
    "HTML('<iframe width=\"846\" height=\"476\" src=\"https://www.youtube.com/embed/uKEm9_HvkKQ\" frameborder=\"0\" allowfullscreen></iframe>')"
   ]
  },
  {
   "cell_type": "markdown",
   "metadata": {
    "collapsed": true,
    "deletable": true,
    "editable": true
   },
   "source": [
    "### Statistics vs. Machine Learning\n",
    "What is the difference between statistics and machine learning"
   ]
  },
  {
   "cell_type": "markdown",
   "metadata": {},
   "source": [
    "## Gradient Descent in Python\n"
   ]
  },
  {
   "cell_type": "code",
   "execution_count": null,
   "metadata": {
    "collapsed": true
   },
   "outputs": [],
   "source": [
    "import numpy\n",
    "import pandas\n",
    "\n",
    "def compute_cost(features, values, theta):\n",
    "    \"\"\"\n",
    "    Compute the cost of a list of parameters, theta, given a list of features \n",
    "    (input data points) and values (output data points).\n",
    "    \"\"\"\n",
    "    m = len(values)\n",
    "    sum_of_square_errors = numpy.square(numpy.dot(features, theta) - values).sum()\n",
    "    cost = sum_of_square_errors / (2*m)\n",
    "\n",
    "    return cost\n",
    "\n",
    "def gradient_descent(features, values, theta, alpha, num_iterations):\n",
    "    \"\"\"\n",
    "    Perform gradient descent given a data set with an arbitrary number of features.\n",
    "    \"\"\"\n",
    "\n",
    "    # Write code here that performs num_iterations updates to the elements of theta.\n",
    "    # times. Every time you compute the cost for a given list of thetas, append it \n",
    "    # to cost_history.\n",
    "    # See the Instructor notes for hints. \n",
    "    \n",
    "    cost_history = []\n",
    "\n",
    "    ###########################\n",
    "    ### YOUR CODE GOES HERE ###\n",
    "    ###########################\n",
    "\n",
    "    return theta, pandas.Series(cost_history) # leave this line for the grader\n"
   ]
  }
 ],
 "metadata": {
  "kernelspec": {
   "display_name": "Python 2",
   "language": "python",
   "name": "python2"
  },
  "language_info": {
   "codemirror_mode": {
    "name": "ipython",
    "version": 2
   },
   "file_extension": ".py",
   "mimetype": "text/x-python",
   "name": "python",
   "nbconvert_exporter": "python",
   "pygments_lexer": "ipython2",
   "version": "2.7.12"
  }
 },
 "nbformat": 4,
 "nbformat_minor": 0
}
