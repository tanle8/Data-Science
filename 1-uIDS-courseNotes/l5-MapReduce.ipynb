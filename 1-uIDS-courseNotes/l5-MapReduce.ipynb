{
 "cells": [
  {
   "cell_type": "markdown",
   "metadata": {
    "deletable": true,
    "editable": true
   },
   "source": [
    "## Lesson 5: MapReduce\n",
    "\n",
    "### Big Data and MapReduce\n",
    "\n",
    "\n",
    "\n",
    "\n",
    "\n",
    "\n",
    "\n"
   ]
  },
  {
   "cell_type": "code",
   "execution_count": 3,
   "metadata": {
    "collapsed": false,
    "deletable": true,
    "editable": true
   },
   "outputs": [
    {
     "data": {
      "text/html": [
       "<iframe width=\"846\" height=\"476\" src=\"https://www.youtube.com/embed/KdSqUjFWzdY\" frameborder=\"0\" allowfullscreen></iframe>"
      ],
      "text/plain": [
       "<IPython.core.display.HTML object>"
      ]
     },
     "execution_count": 3,
     "metadata": {},
     "output_type": "execute_result"
    }
   ],
   "source": [
    "from IPython.display import HTML\n",
    "\n",
    "HTML('<iframe width=\"846\" height=\"476\" src=\"https://www.youtube.com/embed/KdSqUjFWzdY\" frameborder=\"0\" allowfullscreen></iframe>')"
   ]
  },
  {
   "cell_type": "code",
   "execution_count": 5,
   "metadata": {
    "collapsed": false,
    "deletable": true,
    "editable": true
   },
   "outputs": [
    {
     "data": {
      "text/html": [
       "<iframe width=\"960\" height=\"540\" src=\"https://www.youtube.com/embed/gYiwszKaCoQ\" frameborder=\"0\" allowfullscreen></iframe>"
      ],
      "text/plain": [
       "<IPython.core.display.HTML object>"
      ]
     },
     "execution_count": 5,
     "metadata": {},
     "output_type": "execute_result"
    }
   ],
   "source": [
    "from IPython.display import HTML\n",
    "HTML('<iframe width=\"960\" height=\"540\" src=\"https://www.youtube.com/embed/gYiwszKaCoQ\" frameborder=\"0\" allowfullscreen></iframe>')"
   ]
  },
  {
   "cell_type": "markdown",
   "metadata": {
    "deletable": true,
    "editable": true
   },
   "source": [
    "### Basics of MapReduce\n"
   ]
  },
  {
   "cell_type": "code",
   "execution_count": 6,
   "metadata": {
    "collapsed": false,
    "deletable": true,
    "editable": true
   },
   "outputs": [
    {
     "data": {
      "text/html": [
       "<iframe width=\"798\" height=\"449\" src=\"https://www.youtube.com/embed/gI4HN0JhPmo\" frameborder=\"0\" allowfullscreen></iframe>"
      ],
      "text/plain": [
       "<IPython.core.display.HTML object>"
      ]
     },
     "execution_count": 6,
     "metadata": {},
     "output_type": "execute_result"
    }
   ],
   "source": [
    "from IPython.display import HTML\n",
    "\n",
    "HTML('<iframe width=\"798\" height=\"449\" src=\"https://www.youtube.com/embed/gI4HN0JhPmo\" frameborder=\"0\" allowfullscreen></iframe>')"
   ]
  },
  {
   "cell_type": "markdown",
   "metadata": {
    "deletable": true,
    "editable": true
   },
   "source": [
    "### Quiz: Couting Words Serially\n",
    "\n",
    "```Python\n",
    "import logging\n",
    "import sys\n",
    "import string\n",
    "\n",
    "from util import logfile\n",
    "\n",
    "logging.basicConfig(filename=logfile, format='%(message)s',\n",
    "                   level=logging.INFO, filemode='w')\n",
    "\n",
    "\n",
    "def word_count():\n",
    "    # For this exercise, write a program that serially counts the number of occurrences\n",
    "    # of each word in the book Alice in Wonderland.\n",
    "    #\n",
    "    # The text of Alice in Wonderland will be fed into your program line-by-line.\n",
    "    # Your program needs to take each line and do the following:\n",
    "    # 1) Tokenize the line into string tokens by whitespace\n",
    "    #    Example: \"Hello, World!\" should be converted into \"Hello,\" and \"World!\"\n",
    "    #    (This part has been done for you.)\n",
    "    #\n",
    "    # 2) Remove all punctuation\n",
    "    #    Example: \"Hello,\" and \"World!\" should be converted into \"Hello\" and \"World\"\n",
    "    #   \n",
    "    # 3) Make all letters lowercase\n",
    "    #    Example: \"Hello\" and \"World\" should be converted to \"hello\" and \"world\"\n",
    "    #\n",
    "    # Store the the number of times that a word appears in Alice in Wonderland\n",
    "    # in the word_counts dictionary, and then *print* (don't return) that dictionary\n",
    "    #\n",
    "    # In this exercise, print statements will be considered your final output. Because\n",
    "    # of this, printing a debug statement will cause the grader to break. Instead, \n",
    "    # you can use the logging module which we've configured for you.\n",
    "    #\n",
    "    # For example:\n",
    "    # logging.info(\"My debugging message\")\n",
    "    #\n",
    "    # The logging module can be used to give you more control over your\n",
    "    # debugging or other messages than you can get by printing them. Messages \n",
    "    # logged via the logger we configured will be saved to a\n",
    "    # file. If you click \"Test Run\", then you will see the contents of that file\n",
    "    # once your program has finished running.\n",
    "    # \n",
    "    # The logging module also has other capabilities; see \n",
    "    # https://docs.python.org/2/library/logging.html\n",
    "    # for more information.\n",
    "\n",
    "    # Create an empty dictionary to store word/frequency pair as key/value\n",
    "    word_counts = {}\n",
    "\n",
    "    for line in sys.stdin:\n",
    "        # 2) Remove all punctuation\n",
    "        # Example: \"Hello,\" and \"World!\" should be converted into \"Hello\" and \"World\"\n",
    "        # 3) Make all letters lowercase\n",
    "        # Example: \"Hello\" and \"World\" should be converted to \"hello\" and \"world\"\n",
    "        data = line.strip().split(\" \")\n",
    "\n",
    "        # Your code here\n",
    "        # With each word in the list, remove any punctuation and turn it into lowercase.\n",
    "        # Check if the word appears or not, if yes, +1 to key value otherwise assigns its\n",
    "        # value to 1.\n",
    "        for i in data:\n",
    "            key = i.translate(string.maketrans(\"\",\"\"), string.punctuation).lower()\n",
    "            if key in word_counts.keys():\n",
    "                word_counts[key] += 1\n",
    "            else:\n",
    "                word_counts[key] = 1\n",
    "    \n",
    "    print word_counts\n",
    "    \n",
    "    \n",
    "word_count()\n",
    "```"
   ]
  },
  {
   "cell_type": "markdown",
   "metadata": {
    "deletable": true,
    "editable": true
   },
   "source": [
    "### Counting Words in MapReduce"
   ]
  },
  {
   "cell_type": "code",
   "execution_count": 7,
   "metadata": {
    "collapsed": false,
    "deletable": true,
    "editable": true
   },
   "outputs": [
    {
     "data": {
      "text/html": [
       "<iframe width=\"798\" height=\"449\" src=\"https://www.youtube.com/embed/onseMon9zqA\" frameborder=\"0\" allowfullscreen></iframe>"
      ],
      "text/plain": [
       "<IPython.core.display.HTML object>"
      ]
     },
     "execution_count": 7,
     "metadata": {},
     "output_type": "execute_result"
    }
   ],
   "source": [
    "from IPython.display import HTML\n",
    "\n",
    "HTML('<iframe width=\"798\" height=\"449\" src=\"https://www.youtube.com/embed/onseMon9zqA\" frameborder=\"0\" allowfullscreen></iframe>')\n"
   ]
  },
  {
   "cell_type": "code",
   "execution_count": 8,
   "metadata": {
    "collapsed": false,
    "deletable": true,
    "editable": true
   },
   "outputs": [
    {
     "data": {
      "text/html": [
       "<iframe width=\"798\" height=\"449\" src=\"https://www.youtube.com/embed/_q6098sNqpo\" frameborder=\"0\" allowfullscreen></iframe>"
      ],
      "text/plain": [
       "<IPython.core.display.HTML object>"
      ]
     },
     "execution_count": 8,
     "metadata": {},
     "output_type": "execute_result"
    }
   ],
   "source": [
    "from IPython.display import HTML\n",
    "\n",
    "HTML('<iframe width=\"798\" height=\"449\" src=\"https://www.youtube.com/embed/_q6098sNqpo\" frameborder=\"0\" allowfullscreen></iframe>')"
   ]
  },
  {
   "cell_type": "markdown",
   "metadata": {
    "deletable": true,
    "editable": true
   },
   "source": [
    "### Mapper"
   ]
  },
  {
   "cell_type": "code",
   "execution_count": 9,
   "metadata": {
    "collapsed": false,
    "deletable": true,
    "editable": true
   },
   "outputs": [
    {
     "data": {
      "text/html": [
       "<iframe width=\"798\" height=\"449\" src=\"https://www.youtube.com/embed/mPYxFC7DI28\" frameborder=\"0\" allowfullscreen></iframe>"
      ],
      "text/plain": [
       "<IPython.core.display.HTML object>"
      ]
     },
     "execution_count": 9,
     "metadata": {},
     "output_type": "execute_result"
    }
   ],
   "source": [
    "from IPython.display import HTML\n",
    "HTML('<iframe width=\"798\" height=\"449\" src=\"https://www.youtube.com/embed/mPYxFC7DI28\" frameborder=\"0\" allowfullscreen></iframe>')"
   ]
  },
  {
   "cell_type": "markdown",
   "metadata": {
    "deletable": true,
    "editable": true
   },
   "source": [
    "### Reducer\n"
   ]
  },
  {
   "cell_type": "code",
   "execution_count": 2,
   "metadata": {
    "collapsed": false,
    "deletable": true,
    "editable": true
   },
   "outputs": [
    {
     "data": {
      "text/html": [
       "<iframe width=\"798\" height=\"449\" src=\"https://www.youtube.com/embed/bkhuEG0D2HM\" frameborder=\"0\" allowfullscreen></iframe>"
      ],
      "text/plain": [
       "<IPython.core.display.HTML object>"
      ]
     },
     "execution_count": 2,
     "metadata": {},
     "output_type": "execute_result"
    }
   ],
   "source": [
    "from IPython.display import HTML\n",
    "\n",
    "HTML('<iframe width=\"798\" height=\"449\" src=\"https://www.youtube.com/embed/bkhuEG0D2HM\" frameborder=\"0\" allowfullscreen></iframe>')"
   ]
  },
  {
   "cell_type": "markdown",
   "metadata": {
    "deletable": true,
    "editable": true
   },
   "source": [
    "### Quiz: Mapper And Reducer With Aadhaar Data"
   ]
  },
  {
   "cell_type": "markdown",
   "metadata": {},
   "source": [
    "#### aadhaar_genereated_mapper.py\n",
    "\n",
    "```Python\n",
    "import sys\n",
    "import string\n",
    "import logging\n",
    "\n",
    "from util import mapper_logfile\n",
    "logging.basicConfig(filename=mapper_logfile, format='%(message)s',\n",
    "                    level=logging.INFO, filemode='w')\n",
    "\n",
    "def mapper():\n",
    "\n",
    "    #Also make sure to fill out the reducer code before clicking \"Test Run\" or \"Submit\".\n",
    "\n",
    "    #Each line will be a comma-separated list of values. The\n",
    "    #header row WILL be included. Tokenize each row using the \n",
    "    #commas, and emit (i.e. print) a key-value pair containing the \n",
    "    #district (not state) and Aadhaar generated, separated by a tab. \n",
    "    #Skip rows without the correct number of tokens and also skip \n",
    "    #the header row.\n",
    "\n",
    "    #You can see a copy of the the input Aadhaar data\n",
    "    #in the link below:\n",
    "    #https://www.dropbox.com/s/vn8t4uulbsfmalo/aadhaar_data.csv\n",
    "\n",
    "    #Since you are printing the output of your program, printing a debug \n",
    "    #statement will interfere with the operation of the grader. Instead, \n",
    "    #use the logging module, which we've configured to log to a file printed \n",
    "    #when you click \"Test Run\". For example:\n",
    "    #logging.info(\"My debugging message\")\n",
    "    #\n",
    "    #Note that, unlike print, logging.info will take only a single argument.\n",
    "    #So logging.info(\"my message\") will work, but logging.info(\"my\",\"message\") will not.\n",
    "\n",
    "    for line in sys.stdin:\n",
    "        #your code here\n",
    "        # tokenize the line of data\n",
    "        data = line.strip().split(\",\")\n",
    "        \n",
    "        if len(data) != 12 or data[0] == 'Registrar':\n",
    "            continue\n",
    "        print \"{0}\\t{1}\".format(data[3],data[8])\n",
    "\n",
    "mapper()\n",
    "\n",
    "```\n",
    "\n",
    "#### aadhaar_genereated_reducer.py\n",
    "\n",
    "```Python\n",
    "import sys\n",
    "import logging\n",
    "\n",
    "from util import reducer_logfile\n",
    "logging.basicConfig(filename=reducer_logfile, format='%(message)s',\n",
    "                    level=logging.INFO, filemode='w')\n",
    "\n",
    "def reducer():\n",
    "    \n",
    "    #Also make sure to fill out the mapper code before clicking \"Test Run\" or \"Submit\".\n",
    "\n",
    "    #Each line will be a key-value pair separated by a tab character.\n",
    "    #Print out each key once, along with the total number of Aadhaar \n",
    "    #generated, separated by a tab. Make sure each key-value pair is \n",
    "    #formatted correctly! Here's a sample final key-value pair: 'Gujarat\\t5.0'\n",
    "\n",
    "    #Since you are printing the output of your program, printing a debug \n",
    "    #statement will interfere with the operation of the grader. Instead, \n",
    "    #use the logging module, which we've configured to log to a file printed \n",
    "    #when you click \"Test Run\". For example:\n",
    "    #logging.info(\"My debugging message\")\n",
    "    #Note that, unlike print, logging.info will take only a single argument.\n",
    "    #So logging.info(\"my message\") will work, but logging.info(\"my\",\"message\") will not.\n",
    "    \n",
    "    # Initialize values\n",
    "    aadhaar_generated = 0\n",
    "    old_key = None\n",
    "       \n",
    "    for line in sys.stdin:\n",
    "        # your code here\n",
    "        data = line.strip().split(\"\\t\")\n",
    "        if len(data) != 2:\n",
    "            continue\n",
    "        this_key, count = data\n",
    "        \n",
    "        if old_key and old_key != this_key:\n",
    "            print \"{0}\\t{1}\".format(old_key, aadhaar_generated)\n",
    "            aadhaar_generated = 0\n",
    "            \n",
    "        old_key = this_key\n",
    "        aadhaar_generated += float(count)\n",
    "        \n",
    "    if old_key != None:\n",
    "        print \"{0}\\t{1}\".format(old_key, aadhaar_generated)\n",
    "\n",
    "reducer()\n",
    "\n",
    "```"
   ]
  },
  {
   "cell_type": "markdown",
   "metadata": {
    "deletable": true,
    "editable": true
   },
   "source": [
    "### MapReduce Ecosystem\n",
    "MapReduce programming model\n",
    "\n",
    "- Hadoop is a very common open source implementation of MapReduce.\n",
    "- Hadoop couples the map reduce programming model with a distributed file system.\n",
    "- In order to more easily allow programmers to complete complicated tasks using the processing power of Hadoop, there are many infrastructures out there that either built on top of Hadoop or allow data access via Hadoop.\n",
    "  - Two of the most common are **Hive** and **Pig**. But there are bunch of them out there, for example: Mahout for machine learning\n",
    "    - Hive was initially developed by Facebook, and one of its biggest selling points is that it allows running map-preoduced jobs through a SQL-like querying language, called the Hive Query Language; Giraph for graph analysis and Cassandra, a hybrid of a key value and a column oriented database.\n",
    "    - Pig was originally developed at Yahoo! and excels in some areas Hive does not. Pig jobs are written in a procedural language called Pig Latin. This wins developers a bunch of things. Among them are the ability to be more explicit about the execution of our data processing. Which is not possible in a declarative language like SQL syntax. And also the ability to split your data pipeline. \n"
   ]
  },
  {
   "cell_type": "code",
   "execution_count": 1,
   "metadata": {
    "collapsed": false,
    "deletable": true,
    "editable": true
   },
   "outputs": [
    {
     "data": {
      "text/html": [
       "<iframe width=\"798\" height=\"449\" src=\"https://www.youtube.com/embed/Pl68U2iGtyI\" frameborder=\"0\" allowfullscreen></iframe>"
      ],
      "text/plain": [
       "<IPython.core.display.HTML object>"
      ]
     },
     "execution_count": 1,
     "metadata": {},
     "output_type": "execute_result"
    }
   ],
   "source": [
    "# Recap\n",
    "from IPython.display import HTML\n",
    "HTML('<iframe width=\"798\" height=\"449\" src=\"https://www.youtube.com/embed/Pl68U2iGtyI\" frameborder=\"0\" allowfullscreen></iframe>')"
   ]
  }
 ],
 "metadata": {
  "kernelspec": {
   "display_name": "Python 2",
   "language": "python",
   "name": "python2"
  },
  "language_info": {
   "codemirror_mode": {
    "name": "ipython",
    "version": 2
   },
   "file_extension": ".py",
   "mimetype": "text/x-python",
   "name": "python",
   "nbconvert_exporter": "python",
   "pygments_lexer": "ipython2",
   "version": "2.7.12"
  }
 },
 "nbformat": 4,
 "nbformat_minor": 0
}
