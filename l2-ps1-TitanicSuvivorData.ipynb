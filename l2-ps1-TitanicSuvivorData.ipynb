{
 "cells": [
  {
   "cell_type": "markdown",
   "metadata": {},
   "source": [
    "#### Assignment description\n",
    "\n",
    "\n",
    "In this exercise, we will perform some *rudimentary* practices similar to those of\n",
    "an actual data scientist.\n",
    "\n",
    "Part of a data scientist's job is to use her or his `intuition` and `insight` to\n",
    "write `algorithms` and `heuristics`. A data scientist also creates `mathematical models` \n",
    "to make *predictions* based on some `attributes` from the data that they are examining.\n",
    "\n",
    "We would like for you to take your knowledge and intuition about the Titanic\n",
    "and its passengers' attributes to **predict** whether or not the passengers survived\n",
    "or perished. You can read more about the Titanic and specifics about this dataset at:\n",
    "http://en.wikipedia.org/wiki/RMS_Titanic\n",
    "http://www.kaggle.com/c/titanic-gettingStarted\n",
    "\n",
    "In this exercise and the following ones, you are given a `list of Titantic passengers`\n",
    "and their associated information. More information about the data can be seen at the \n",
    "link below:\n",
    "http://www.kaggle.com/c/titanic-gettingStarted/data. \n",
    "\n",
    "For this exercise, you need to write a simple `heuristic` that will use\n",
    "the `passengers' gender` to predict if that person survived the Titanic disaster.\n",
    "\n",
    "You prediction should be **78% accurate or higher**.\n",
    "\n",
    "Here's a simple heuristic to start off:\n",
    "- 1) If the passenger is female, your heuristic should assume that the\n",
    "   passenger survived.\n",
    "- 2) If the passenger is male, you heuristic should\n",
    "   assume that the passenger did not survive.\n",
    "\n",
    "You can access the gender of a passenger via `passenger['Sex']`.\n",
    "- If the passenger is *male*, `passenger['Sex']` will return a string **\"male\"**.\n",
    "- If the passenger is *female*, `passenger['Sex']` will return a string **\"female\"**.\n",
    "\n",
    "Write your prediction back into the \"predictions\" dictionary. \n",
    "- The key of the dictionary should be the passenger's id (which can be accessed via passenger[\"PassengerId\"]) and the associated value should be \"1\" if the passenger survied or \"0\" otherwise.\n",
    "\n",
    "- For example, \n",
    "    - if a passenger is predicted to have survived:\n",
    "        - passenger_id = passenger['PassengerId']\n",
    "        - predictions[passenger_id] = 1\n",
    "    - And if a passenger is predicted to have perished in the disaster:\n",
    "        - passenger_id = passenger['PassengerId']\n",
    "        - predictions[passenger_id] = 0\n",
    "\n",
    "You can also look at the Titantic data that you will be working with\n",
    "at the link below:\n",
    "https://s3.amazonaws.com/content.udacity-data.com/courses/ud359/titanic_data.csv"
   ]
  },
  {
   "cell_type": "code",
   "execution_count": 21,
   "metadata": {
    "collapsed": false,
    "deletable": true,
    "editable": true
   },
   "outputs": [],
   "source": [
    "import numpy\n",
    "import pandas\n",
    "import statsmodels.api as sm\n",
    "\n",
    "def simple_heuristic(file_path):\n",
    "    '''Read the assignment description above.\n",
    "    '''\n",
    "\n",
    "    predictions = {}\n",
    "    df = pandas.read_csv(file_path)\n",
    "    for passenger_index, passenger in df.iterrows():\n",
    "        passenger_id = passenger['PassengerId']\n",
    "      \n",
    "        # Your code here:\n",
    "        # For example, let's assume that if the passenger\n",
    "        # is a male, then the passenger survived.\n",
    "        #     if passenger['Sex'] == 'male':\n",
    "        #         predictions[passenger_id] = 1\n",
    "        if passenger['Sex'] == 'male':\n",
    "            predictions[passenger_id] = 1\n",
    "        elif passenger['Sex'] == 'female':\n",
    "            predictions[passenger_id] = 0\n",
    "        \n",
    "    return predictions\n"
   ]
  },
  {
   "cell_type": "code",
   "execution_count": 20,
   "metadata": {
    "collapsed": false
   },
   "outputs": [
    {
     "data": {
      "text/plain": [
       "{}"
      ]
     },
     "execution_count": 20,
     "metadata": {},
     "output_type": "execute_result"
    }
   ],
   "source": [
    "simple_heuristic('l2-ps1-data-titanic.csv')"
   ]
  }
 ],
 "metadata": {
  "kernelspec": {
   "display_name": "Python 2",
   "language": "python",
   "name": "python2"
  },
  "language_info": {
   "codemirror_mode": {
    "name": "ipython",
    "version": 2
   },
   "file_extension": ".py",
   "mimetype": "text/x-python",
   "name": "python",
   "nbconvert_exporter": "python",
   "pygments_lexer": "ipython2",
   "version": "2.7.12"
  }
 },
 "nbformat": 4,
 "nbformat_minor": 0
}
