{
 "cells": [
  {
   "cell_type": "markdown",
   "metadata": {},
   "source": [
    "# Quiz 1 - Ridership per Station\n",
    "\n",
    "## Mapper"
   ]
  },
  {
   "cell_type": "code",
   "execution_count": null,
   "metadata": {
    "collapsed": true
   },
   "outputs": [],
   "source": [
    "import sys\n",
    "import string\n",
    "import logging\n",
    "\n",
    "from util import mapper_logfile\n",
    "logging.basicConfig(filename=mapper_logfile, format='%(message)s',\n",
    "                    level=logging.INFO, filemode='w')\n",
    "\n",
    "def mapper():\n",
    "    \"\"\"\n",
    "    The input to this mapper will be the final Subway-MTA dataset, the same as\n",
    "    in the previous exercise.  You can check out the csv and its structure below:\n",
    "    https://s3.amazonaws.com/content.udacity-data.com/courses/ud359/turnstile_data_master_with_weather.csv\n",
    "\n",
    "    For each line of input, the mapper output should PRINT (not return) the UNIT as \n",
    "    the key, the number of ENTRIESn_hourly as the value, and separate the key and \n",
    "    the value by a tab. For example: 'R002\\t105105.0'\n",
    "\n",
    "    Since you are printing the output of your program, printing a debug \n",
    "    statement will interfere with the operation of the grader. Instead, \n",
    "    use the logging module, which we've configured to log to a file printed \n",
    "    when you click \"Test Run\". For example:\n",
    "    logging.info(\"My debugging message\")\n",
    "    Note that, unlike print, logging.info will take only a single argument.\n",
    "    So logging.info(\"my message\") will work, but logging.info(\"my\",\"message\") will not.\n",
    "    \n",
    "    The logging module can be used to give you more control over your debugging\n",
    "    or other messages than you can get by printing them. In this exercise, print\n",
    "    statements from your mapper will go to your reducer, and print statements\n",
    "    from your reducer will be considered your final output. By contrast, messages\n",
    "    logged via the loggers we configured will be saved to two files, one\n",
    "    for the mapper and one for the reducer. If you click \"Test Run\", then we\n",
    "    will show the contents of those files once your program has finished running.\n",
    "    The logging module also has other capabilities; see \n",
    "    https://docs.python.org/2/library/logging.html for more information.\n",
    "    \"\"\"\n",
    "\n",
    "    for line in sys.stdin:\n",
    "        # your code here\n",
    "\n",
    "\n",
    "mapper()\n"
   ]
  },
  {
   "cell_type": "markdown",
   "metadata": {},
   "source": [
    "## Reducer"
   ]
  },
  {
   "cell_type": "code",
   "execution_count": null,
   "metadata": {
    "collapsed": true
   },
   "outputs": [],
   "source": [
    "import sys\n",
    "import logging\n",
    "\n",
    "from util import reducer_logfile\n",
    "logging.basicConfig(filename=reducer_logfile, format='%(message)s',\n",
    "                    level=logging.INFO, filemode='w')\n",
    "\n",
    "def reducer():\n",
    "    '''\n",
    "    Given the output of the mapper for this exercise, the reducer should PRINT \n",
    "    (not return) one line per UNIT along with the total number of ENTRIESn_hourly \n",
    "    over the course of May (which is the duration of our data), separated by a tab.\n",
    "    An example output row from the reducer might look like this: 'R001\\t500625.0'\n",
    "\n",
    "    You can assume that the input to the reducer is sorted such that all rows\n",
    "    corresponding to a particular UNIT are grouped together.\n",
    "\n",
    "    Since you are printing the output of your program, printing a debug \n",
    "    statement will interfere with the operation of the grader. Instead, \n",
    "    use the logging module, which we've configured to log to a file printed \n",
    "    when you click \"Test Run\". For example:\n",
    "    logging.info(\"My debugging message\")\n",
    "    Note that, unlike print, logging.info will take only a single argument.\n",
    "    So logging.info(\"my message\") will work, but logging.info(\"my\",\"message\") will not.\n",
    "    '''\n",
    "\n",
    "    for line in sys.stdin:\n",
    "        # your code here\n",
    "\n",
    "        \n",
    "reducer()\n"
   ]
  },
  {
   "cell_type": "markdown",
   "metadata": {},
   "source": [
    "# Quiz 2 - Ridership by Weather Type"
   ]
  },
  {
   "cell_type": "markdown",
   "metadata": {},
   "source": [
    "## Mapper"
   ]
  },
  {
   "cell_type": "code",
   "execution_count": null,
   "metadata": {
    "collapsed": true
   },
   "outputs": [],
   "source": [
    "import sys\n",
    "import string\n",
    "import logging\n",
    "\n",
    "from util import mapper_logfile\n",
    "logging.basicConfig(filename=mapper_logfile, format='%(message)s',\n",
    "                    level=logging.INFO, filemode='w')\n",
    "\n",
    "def mapper():\n",
    "    '''\n",
    "    For this exercise, compute the average value of the ENTRIESn_hourly column \n",
    "    for different weather types. Weather type will be defined based on the \n",
    "    combination of the columns fog and rain (which are boolean values).\n",
    "    For example, one output of our reducer would be the average hourly entries \n",
    "    across all hours when it was raining but not foggy.\n",
    "\n",
    "    Each line of input will be a row from our final Subway-MTA dataset in csv format.\n",
    "    You can check out the input csv file and its structure below:\n",
    "    https://s3.amazonaws.com/content.udacity-data.com/courses/ud359/turnstile_data_master_with_weather.csv\n",
    "    \n",
    "    Note that this is a comma-separated file.\n",
    "\n",
    "    This mapper should PRINT (not return) the weather type as the key (use the \n",
    "    given helper function to format the weather type correctly) and the number in \n",
    "    the ENTRIESn_hourly column as the value. They should be separated by a tab.\n",
    "    For example: 'fog-norain\\t12345'\n",
    "    \n",
    "    Since you are printing the output of your program, printing a debug \n",
    "    statement will interfere with the operation of the grader. Instead, \n",
    "    use the logging module, which we've configured to log to a file printed \n",
    "    when you click \"Test Run\". For example:\n",
    "    logging.info(\"My debugging message\")\n",
    "    Note that, unlike print, logging.info will take only a single argument.\n",
    "    So logging.info(\"my message\") will work, but logging.info(\"my\",\"message\") will not.\n",
    "    '''\n",
    "\n",
    "    # Takes in variables indicating whether it is foggy and/or rainy and\n",
    "    # returns a formatted key that you should output.  The variables passed in\n",
    "    # can be booleans, ints (0 for false and 1 for true) or floats (0.0 for\n",
    "    # false and 1.0 for true), but the strings '0.0' and '1.0' will not work,\n",
    "    # so make sure you convert these values to an appropriate type before\n",
    "    # calling the function.\n",
    "    def format_key(fog, rain):\n",
    "        return '{}fog-{}rain'.format(\n",
    "            '' if fog else 'no',\n",
    "            '' if rain else 'no'\n",
    "        )\n",
    "\n",
    "    for line in sys.stdin:\n",
    "    \t# your code here\n",
    "\n",
    "mapper()\n"
   ]
  },
  {
   "cell_type": "markdown",
   "metadata": {},
   "source": [
    "## Reducer"
   ]
  },
  {
   "cell_type": "code",
   "execution_count": null,
   "metadata": {
    "collapsed": true
   },
   "outputs": [],
   "source": [
    "import sys\n",
    "import logging\n",
    "\n",
    "from util import reducer_logfile\n",
    "logging.basicConfig(filename=reducer_logfile, format='%(message)s',\n",
    "                    level=logging.INFO, filemode='w')\n",
    "\n",
    "def reducer():\n",
    "    '''\n",
    "    Given the output of the mapper for this assignment, the reducer should\n",
    "    print one row per weather type, along with the average value of\n",
    "    ENTRIESn_hourly for that weather type, separated by a tab. You can assume\n",
    "    that the input to the reducer will be sorted by weather type, such that all\n",
    "    entries corresponding to a given weather type will be grouped together.\n",
    "\n",
    "    In order to compute the average value of ENTRIESn_hourly, you'll need to\n",
    "    keep track of both the total riders per weather type and the number of\n",
    "    hours with that weather type. That's why we've initialized the variable \n",
    "    riders and num_hours below. Feel free to use a different data structure in \n",
    "    your solution, though.\n",
    "\n",
    "    An example output row might look like this:\n",
    "    'fog-norain\\t1105.32467557'\n",
    "\n",
    "    Since you are printing the output of your program, printing a debug \n",
    "    statement will interfere with the operation of the grader. Instead, \n",
    "    use the logging module, which we've configured to log to a file printed \n",
    "    when you click \"Test Run\". For example:\n",
    "    logging.info(\"My debugging message\")\n",
    "    Note that, unlike print, logging.info will take only a single argument.\n",
    "    So logging.info(\"my message\") will work, but logging.info(\"my\",\"message\") will not.\n",
    "    '''\n",
    "\n",
    "    riders = 0      # The number of total riders for this key\n",
    "    num_hours = 0   # The number of hours with this key\n",
    "    old_key = None\n",
    "\n",
    "    for line in sys.stdin:\n",
    "        # your code here\n",
    "\n",
    "reducer()\n"
   ]
  },
  {
   "cell_type": "markdown",
   "metadata": {},
   "source": [
    "# Quiz 3 - Busiest Hour"
   ]
  },
  {
   "cell_type": "markdown",
   "metadata": {},
   "source": [
    "## Mapper"
   ]
  },
  {
   "cell_type": "code",
   "execution_count": null,
   "metadata": {
    "collapsed": true
   },
   "outputs": [],
   "source": [
    "import sys\n",
    "import string\n",
    "import logging\n",
    "\n",
    "from util import mapper_logfile\n",
    "logging.basicConfig(filename=mapper_logfile, format='%(message)s',\n",
    "                    level=logging.INFO, filemode='w')\n",
    "\n",
    "def mapper():\n",
    "    \"\"\"\n",
    "    In this exercise, for each turnstile unit, you will determine the date and time \n",
    "    (in the span of this data set) at which the most people entered through the unit.\n",
    "    \n",
    "    The input to the mapper will be the final Subway-MTA dataset, the same as\n",
    "    in the previous exercise. You can check out the csv and its structure below:\n",
    "    https://s3.amazonaws.com/content.udacity-data.com/courses/ud359/turnstile_data_master_with_weather.csv\n",
    "\n",
    "    For each line, the mapper should return the UNIT, ENTRIESn_hourly, DATEn, and \n",
    "    TIMEn columns, separated by tabs. For example:\n",
    "    'R001\\t100000.0\\t2011-05-01\\t01:00:00'\n",
    "\n",
    "    Since you are printing the output of your program, printing a debug \n",
    "    statement will interfere with the operation of the grader. Instead, \n",
    "    use the logging module, which we've configured to log to a file printed \n",
    "    when you click \"Test Run\". For example:\n",
    "    logging.info(\"My debugging message\")\n",
    "    Note that, unlike print, logging.info will take only a single argument.\n",
    "    So logging.info(\"my message\") will work, but logging.info(\"my\",\"message\") will not.\n",
    "    \"\"\"\n",
    "\n",
    "    for line in sys.stdin:\n",
    "        # your code here\n",
    "\n",
    "mapper()\n"
   ]
  },
  {
   "cell_type": "markdown",
   "metadata": {},
   "source": [
    "## Reducer"
   ]
  },
  {
   "cell_type": "code",
   "execution_count": null,
   "metadata": {
    "collapsed": true
   },
   "outputs": [],
   "source": [
    "import sys\n",
    "import logging\n",
    "\n",
    "from util import reducer_logfile\n",
    "logging.basicConfig(filename=reducer_logfile, format='%(message)s',\n",
    "                    level=logging.INFO, filemode='w')\n",
    "\n",
    "def reducer():\n",
    "    '''\n",
    "    Write a reducer that will compute the busiest date and time (that is, the \n",
    "    date and time with the most entries) for each turnstile unit. Ties should \n",
    "    be broken in favor of datetimes that are later on in the month of May. You \n",
    "    may assume that the contents of the reducer will be sorted so that all entries \n",
    "    corresponding to a given UNIT will be grouped together.\n",
    "    \n",
    "    The reducer should print its output with the UNIT name, the datetime (which \n",
    "    is the DATEn followed by the TIMEn column, separated by a single space), and \n",
    "    the number of entries at this datetime, separated by tabs.\n",
    "\n",
    "    For example, the output of the reducer should look like this:\n",
    "    R001    2011-05-11 17:00:00\t   31213.0\n",
    "    R002\t2011-05-12 21:00:00\t   4295.0\n",
    "    R003\t2011-05-05 12:00:00\t   995.0\n",
    "    R004\t2011-05-12 12:00:00\t   2318.0\n",
    "    R005\t2011-05-10 12:00:00\t   2705.0\n",
    "    R006\t2011-05-25 12:00:00\t   2784.0\n",
    "    R007\t2011-05-10 12:00:00\t   1763.0\n",
    "    R008\t2011-05-12 12:00:00\t   1724.0\n",
    "    R009\t2011-05-05 12:00:00\t   1230.0\n",
    "    R010\t2011-05-09 18:00:00\t   30916.0\n",
    "    ...\n",
    "    ...\n",
    "\n",
    "    Since you are printing the output of your program, printing a debug \n",
    "    statement will interfere with the operation of the grader. Instead, \n",
    "    use the logging module, which we've configured to log to a file printed \n",
    "    when you click \"Test Run\". For example:\n",
    "    logging.info(\"My debugging message\")\n",
    "    Note that, unlike print, logging.info will take only a single argument.\n",
    "    So logging.info(\"my message\") will work, but logging.info(\"my\",\"message\") will not.\n",
    "    '''\n",
    "\n",
    "    max_entries = 0\n",
    "    old_key = None\n",
    "    datetime = ''\n",
    "\n",
    "    for line in sys.stdin:\n",
    "        # your code here\n",
    "\n",
    "reducer()\n"
   ]
  }
 ],
 "metadata": {
  "kernelspec": {
   "display_name": "Python 2",
   "language": "python",
   "name": "python2"
  },
  "language_info": {
   "codemirror_mode": {
    "name": "ipython",
    "version": 2
   },
   "file_extension": ".py",
   "mimetype": "text/x-python",
   "name": "python",
   "nbconvert_exporter": "python",
   "pygments_lexer": "ipython2",
   "version": "2.7.12"
  }
 },
 "nbformat": 4,
 "nbformat_minor": 0
}
